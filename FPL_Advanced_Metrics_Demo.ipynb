{
 "cells": [
  {
   "cell_type": "markdown",
   "metadata": {},
   "source": [
    "# FPL Advanced Metrics & Analysis Demo\n",
    "\n",
    "This notebook demonstrates **20+ advanced metrics and strategies** used by popular FPL content creators:\n",
    "- FPL Focal\n",
    "- Let's Talk FPL\n",
    "- FPL Wire\n",
    "- FPL General\n",
    "- FPL BlackBox\n",
    "- FPL Raptor\n",
    "\n",
    "## Features:\n",
    "1. Expected Goals (xG) and Expected Assists (xA) analysis\n",
    "2. Position-specific metrics (GKP, DEF, MID, FWD)\n",
    "3. Team building strategies\n",
    "4. Transfer planning\n",
    "5. Chip strategy (Wildcard, Bench Boost, Triple Captain, Free Hit)\n",
    "6. Captain picks\n",
    "7. Differential players\n",
    "8. Fixture analysis\n",
    "9. And much more!"
   ]
  },
  {
   "cell_type": "markdown",
   "metadata": {},
   "source": [
    "## Setup & Data Loading"
   ]
  },
  {
   "cell_type": "code",
   "execution_count": null,
   "metadata": {},
   "outputs": [],
   "source": [
    "# Import required libraries\n",
    "import pandas as pd\n",
    "import numpy as np\n",
    "import json\n",
    "import matplotlib.pyplot as plt\n",
    "import seaborn as sns\n",
    "from Fpl_api import *\n",
    "from advanced_metrics import AdvancedMetrics, FixtureAnalysis, load_fpl_data, generate_metric_summary\n",
    "from fpl_strategy import FPLStrategy, GameweekPlanner, BonusPredictor\n",
    "\n",
    "# Set display options\n",
    "pd.set_option('display.max_columns', None)\n",
    "pd.set_option('display.max_rows', 50)\n",
    "pd.set_option('display.width', None)\n",
    "\n",
    "# Plotting style\n",
    "sns.set_style('darkgrid')\n",
    "plt.rcParams['figure.figsize'] = (12, 6)\n",
    "\n",
    "print(\"✅ Libraries imported successfully!\")"
   ]
  },
  {
   "cell_type": "code",
   "execution_count": null,
   "metadata": {},
   "outputs": [],
   "source": [
    "# Load FPL data from API\n",
    "print(\"Fetching latest FPL data...\")\n",
    "fpl_data = FPLapi_main_endpoint()\n",
    "\n",
    "# Extract players and teams\n",
    "players_df = players(fpl_data)\n",
    "teams_df = teamdata(fpl_data)\n",
    "\n",
    "print(f\"\\n✅ Loaded {len(players_df)} players and {len(teams_df)} teams\")\n",
    "print(f\"\\nData columns: {list(players_df.columns[:10])}...\")"
   ]
  },
  {
   "cell_type": "markdown",
   "metadata": {},
   "source": [
    "## 📊 Part 1: General Advanced Metrics\n",
    "\n",
    "### Metrics used by all popular FPL creators"
   ]
  },
  {
   "cell_type": "code",
   "execution_count": null,
   "metadata": {},
   "outputs": [],
   "source": [
    "# Initialize Advanced Metrics calculator\n",
    "metrics = AdvancedMetrics(players_df)\n",
    "\n",
    "# Display available metrics\n",
    "print(generate_metric_summary())"
   ]
  },
  {
   "cell_type": "code",
   "execution_count": null,
   "metadata": {},
   "outputs": [],
   "source": [
    "# Get comprehensive analysis\n",
    "analysis_df = metrics.get_comprehensive_analysis()\n",
    "\n",
    "# Top 20 players by value (Points per Million)\n",
    "print(\"\\n🏆 TOP 20 PLAYERS BY VALUE (Points per Million)\")\n",
    "print(\"=\" * 80)\n",
    "top_value = analysis_df.nlargest(20, 'points_per_million')[[\n",
    "    'web_name', 'position', 'team', 'now_cost', 'total_points', \n",
    "    'points_per_million', 'form', 'xgi_per_90'\n",
    "]]\n",
    "print(top_value.to_string(index=False))"
   ]
  },
  {
   "cell_type": "code",
   "execution_count": null,
   "metadata": {},
   "outputs": [],
   "source": [
    "# Expected Goal Involvements (xGI) Leaders\n",
    "print(\"\\n⚽ TOP 20 PLAYERS BY xGI PER 90\")\n",
    "print(\"Expected Goal Involvements - Key metric used by FPL Focal\")\n",
    "print(\"=\" * 80)\n",
    "\n",
    "top_xgi = analysis_df[analysis_df['minutes'] >= 500].nlargest(20, 'xgi_per_90')[[\n",
    "    'web_name', 'position', 'team', 'now_cost', \n",
    "    'xgi_per_90', 'total_points', 'form'\n",
    "]]\n",
    "print(top_xgi.to_string(index=False))"
   ]
  },
  {
   "cell_type": "code",
   "execution_count": null,
   "metadata": {},
   "outputs": [],
   "source": [
    "# Bonus Point Potential\n",
    "print(\"\\n🎁 TOP 20 BONUS POINT MAGNETS\")\n",
    "print(\"BPS per 90 - Players who consistently get bonus points\")\n",
    "print(\"=\" * 80)\n",
    "\n",
    "bonus_df = analysis_df[analysis_df['minutes'] >= 500].copy()\n",
    "top_bonus = bonus_df.nlargest(20, 'bps_per_90')[[\n",
    "    'web_name', 'position', 'team', 'now_cost',\n",
    "    'bps_per_90', 'total_points', 'form'\n",
    "]]\n",
    "print(top_bonus.to_string(index=False))"
   ]
  },
  {
   "cell_type": "markdown",
   "metadata": {},
   "source": [
    "## 🎯 Part 2: Position-Specific Analysis\n",
    "\n",
    "### Forward Metrics"
   ]
  },
  {
   "cell_type": "code",
   "execution_count": null,
   "metadata": {},
   "outputs": [],
   "source": [
    "# Forward-specific metrics\n",
    "forwards = metrics.calculate_forward_metrics()\n",
    "\n",
    "print(\"\\n⚡ TOP FORWARDS ANALYSIS\")\n",
    "print(\"Shot Quality, Conversion Rate, Penalty Box Threat\")\n",
    "print(\"=\" * 80)\n",
    "\n",
    "if not forwards.empty:\n",
    "    top_forwards = forwards.nlargest(15, 'forward_score')\n",
    "    print(top_forwards.to_string(index=False))\n",
    "else:\n",
    "    print(\"No forward data available\")"
   ]
  },
  {
   "cell_type": "markdown",
   "metadata": {},
   "source": [
    "### Midfielder Metrics"
   ]
  },
  {
   "cell_type": "code",
   "execution_count": null,
   "metadata": {},
   "outputs": [],
   "source": [
    "# Midfielder-specific metrics\n",
    "midfielders = metrics.calculate_midfielder_metrics()\n",
    "\n",
    "print(\"\\n🎨 TOP MIDFIELDERS ANALYSIS\")\n",
    "print(\"Creativity Index, xA per 90, Goal Involvement\")\n",
    "print(\"=\" * 80)\n",
    "\n",
    "if not midfielders.empty:\n",
    "    top_mids = midfielders.nlargest(15, 'midfielder_score')\n",
    "    print(top_mids.to_string(index=False))\n",
    "else:\n",
    "    print(\"No midfielder data available\")"
   ]
  },
  {
   "cell_type": "markdown",
   "metadata": {},
   "source": [
    "### Defender Metrics"
   ]
  },
  {
   "cell_type": "code",
   "execution_count": null,
   "metadata": {},
   "outputs": [],
   "source": [
    "# Defender-specific metrics\n",
    "defenders = metrics.calculate_defender_metrics()\n",
    "\n",
    "print(\"\\n🛡️ TOP DEFENDERS ANALYSIS\")\n",
    "print(\"Clean Sheet Probability, Defensive Quality, Attacking Threat\")\n",
    "print(\"=\" * 80)\n",
    "\n",
    "if not defenders.empty:\n",
    "    top_defs = defenders.nlargest(15, 'defender_score')\n",
    "    print(top_defs.to_string(index=False))\n",
    "else:\n",
    "    print(\"No defender data available\")"
   ]
  },
  {
   "cell_type": "markdown",
   "metadata": {},
   "source": [
    "### Goalkeeper Metrics"
   ]
  },
  {
   "cell_type": "code",
   "execution_count": null,
   "metadata": {},
   "outputs": [],
   "source": [
    "# Goalkeeper-specific metrics\n",
    "goalkeepers = metrics.calculate_goalkeeper_metrics()\n",
    "\n",
    "print(\"\\n🧤 TOP GOALKEEPERS ANALYSIS\")\n",
    "print(\"Saves per 90, xG Prevented, Clean Sheet %\")\n",
    "print(\"=\" * 80)\n",
    "\n",
    "if not goalkeepers.empty:\n",
    "    top_gks = goalkeepers.nlargest(10, 'goalkeeper_score')\n",
    "    print(top_gks.to_string(index=False))\n",
    "else:\n",
    "    print(\"No goalkeeper data available\")"
   ]
  },
  {
   "cell_type": "markdown",
   "metadata": {},
   "source": [
    "## 👑 Part 3: Captain Analysis\n",
    "\n",
    "### Best captaincy options based on form, xGI, and reliability"
   ]
  },
  {
   "cell_type": "code",
   "execution_count": null,
   "metadata": {},
   "outputs": [],
   "source": [
    "# Captain picks\n",
    "captain_picks = metrics.calculate_captain_score()\n",
    "\n",
    "print(\"\\n👑 TOP 15 CAPTAINCY OPTIONS\")\n",
    "print(\"Based on form, xGI, minutes reliability\")\n",
    "print(\"Technique used by Let's Talk FPL, FPL Wire\")\n",
    "print(\"=\" * 80)\n",
    "\n",
    "top_captains = captain_picks.head(15)\n",
    "print(top_captains.to_string(index=False))"
   ]
  },
  {
   "cell_type": "markdown",
   "metadata": {},
   "source": [
    "## 🔍 Part 4: Differential Players\n",
    "\n",
    "### Low-owned gems with strong metrics"
   ]
  },
  {
   "cell_type": "code",
   "execution_count": null,
   "metadata": {},
   "outputs": [],
   "source": [
    "# Find differentials\n",
    "differentials = metrics.find_differentials(max_ownership=10.0, min_points=30)\n",
    "\n",
    "print(\"\\n💎 TOP DIFFERENTIAL PLAYERS\")\n",
    "print(\"Low ownership (<10%), strong underlying stats\")\n",
    "print(\"Strategy from FPL Wire, FPL BlackBox\")\n",
    "print(\"=\" * 80)\n",
    "\n",
    "if not differentials.empty:\n",
    "    top_diffs = differentials.head(20)\n",
    "    print(top_diffs.to_string(index=False))\n",
    "else:\n",
    "    print(\"No differentials found with current criteria\")"
   ]
  },
  {
   "cell_type": "markdown",
   "metadata": {},
   "source": [
    "## 📈 Part 5: Visualizations\n",
    "\n",
    "### Visual analysis of key metrics"
   ]
  },
  {
   "cell_type": "code",
   "execution_count": null,
   "metadata": {},
   "outputs": [],
   "source": [
    "# xGI vs Cost scatter plot\n",
    "fig, ax = plt.subplots(figsize=(14, 8))\n",
    "\n",
    "analysis_with_minutes = analysis_df[analysis_df['minutes'] >= 500].copy()\n",
    "\n",
    "positions = analysis_with_minutes['position'].unique()\n",
    "colors = {'GKP': 'yellow', 'DEF': 'blue', 'MID': 'green', 'FWD': 'red'}\n",
    "\n",
    "for pos in positions:\n",
    "    pos_data = analysis_with_minutes[analysis_with_minutes['position'] == pos]\n",
    "    ax.scatter(\n",
    "        pos_data['now_cost'] / 10,\n",
    "        pos_data['xgi_per_90'],\n",
    "        c=colors.get(pos, 'gray'),\n",
    "        label=pos,\n",
    "        alpha=0.6,\n",
    "        s=100\n",
    "    )\n",
    "\n",
    "# Highlight top performers\n",
    "top_performers = analysis_with_minutes.nlargest(10, 'xgi_per_90')\n",
    "for _, player in top_performers.iterrows():\n",
    "    ax.annotate(\n",
    "        player['web_name'],\n",
    "        (player['now_cost']/10, player['xgi_per_90']),\n",
    "        fontsize=8,\n",
    "        alpha=0.7\n",
    "    )\n",
    "\n",
    "ax.set_xlabel('Cost (£m)', fontsize=12)\n",
    "ax.set_ylabel('xGI per 90', fontsize=12)\n",
    "ax.set_title('Expected Goal Involvements vs Cost\\n(Min 500 minutes)', fontsize=14, fontweight='bold')\n",
    "ax.legend()\n",
    "ax.grid(True, alpha=0.3)\n",
    "plt.tight_layout()\n",
    "plt.show()\n",
    "\n",
    "print(\"\\n💡 Look for players above the trend line - good value for xGI!\")"
   ]
  },
  {
   "cell_type": "code",
   "execution_count": null,
   "metadata": {},
   "outputs": [],
   "source": [
    "# Points per Million by position\n",
    "fig, ax = plt.subplots(figsize=(12, 6))\n",
    "\n",
    "analysis_filtered = analysis_df[analysis_df['minutes'] >= 300].copy()\n",
    "\n",
    "positions_order = ['FWD', 'MID', 'DEF', 'GKP']\n",
    "data_by_position = [analysis_filtered[analysis_filtered['position'] == pos]['points_per_million'].dropna() \n",
    "                     for pos in positions_order]\n",
    "\n",
    "bp = ax.boxplot(data_by_position, labels=positions_order, patch_artist=True)\n",
    "\n",
    "# Color boxes\n",
    "for patch, pos in zip(bp['boxes'], positions_order):\n",
    "    patch.set_facecolor(colors.get(pos, 'gray'))\n",
    "    patch.set_alpha(0.6)\n",
    "\n",
    "ax.set_ylabel('Points per Million', fontsize=12)\n",
    "ax.set_xlabel('Position', fontsize=12)\n",
    "ax.set_title('Value Distribution by Position (Points per Million)', fontsize=14, fontweight='bold')\n",
    "ax.grid(True, alpha=0.3, axis='y')\n",
    "plt.tight_layout()\n",
    "plt.show()\n",
    "\n",
    "print(\"\\n💡 Midfielders and Forwards typically offer better PPM value!\")"
   ]
  },
  {
   "cell_type": "markdown",
   "metadata": {},
   "source": [
    "## 🎮 Part 6: Team Building Strategies\n",
    "\n",
    "### Different team building approaches"
   ]
  },
  {
   "cell_type": "code",
   "execution_count": null,
   "metadata": {},
   "outputs": [],
   "source": [
    "# Initialize strategy module\n",
    "strategy = FPLStrategy(analysis_df)\n",
    "\n",
    "print(\"\\n🏗️ TEAM BUILDING STRATEGIES\")\n",
    "print(\"=\" * 80)\n",
    "\n",
    "# Build balanced team\n",
    "print(\"\\n1. BALANCED STRATEGY (Mix of price points)\")\n",
    "balanced_team = strategy.build_optimal_team(budget=100.0, formation=\"3-4-3\", strategy=\"balanced\")\n",
    "\n",
    "print(f\"\\nStarters ({len(balanced_team['starters'])}):\")\n",
    "for player in balanced_team['starters']:\n",
    "    print(f\"  {player['name']:20} ({player['position']}) - £{player['cost']:.1f}m\")\n",
    "\n",
    "print(f\"\\nBench ({len(balanced_team['bench'])}):\")\n",
    "for player in balanced_team['bench']:\n",
    "    print(f\"  {player['name']:20} ({player['position']}) - £{player['cost']:.1f}m\")\n",
    "\n",
    "print(f\"\\nTotal Cost: £{balanced_team['total_cost']:.1f}m\")"
   ]
  },
  {
   "cell_type": "code",
   "execution_count": null,
   "metadata": {},
   "outputs": [],
   "source": [
    "# Differential team strategy\n",
    "print(\"\\n2. DIFFERENTIAL STRATEGY (Low ownership focus)\")\n",
    "diff_team = strategy.build_optimal_team(budget=100.0, formation=\"3-5-2\", strategy=\"differential\")\n",
    "\n",
    "print(f\"\\nStarters ({len(diff_team['starters'])}):\")\n",
    "for player in diff_team['starters']:\n",
    "    print(f\"  {player['name']:20} ({player['position']}) - £{player['cost']:.1f}m\")\n",
    "\n",
    "print(f\"\\nTotal Cost: £{diff_team['total_cost']:.1f}m\")\n",
    "print(\"\\n💡 Good for chasing in mini-leagues!\")"
   ]
  },
  {
   "cell_type": "markdown",
   "metadata": {},
   "source": [
    "## 🔄 Part 7: Transfer Planning\n",
    "\n",
    "### Weekly transfer suggestions"
   ]
  },
  {
   "cell_type": "code",
   "execution_count": null,
   "metadata": {},
   "outputs": [],
   "source": [
    "# Example: Analyze transfer targets\n",
    "# Replace with your actual team\n",
    "current_team = [\n",
    "    'Saka', 'Salah', 'Palmer', 'Gordon', 'Bowen',  # Mids\n",
    "    'Haaland', 'Watkins', 'Isak',  # Forwards\n",
    "    'Gabriel', 'Pedro Porro', 'Saliba', 'Hall', 'Robinson',  # Defenders\n",
    "    'Raya', 'Flekken'  # GKs\n",
    "]\n",
    "\n",
    "print(\"\\n🔄 TRANSFER SUGGESTIONS\")\n",
    "print(\"Based on form, xGI, and fixtures\")\n",
    "print(\"=\" * 80)\n",
    "\n",
    "transfer_suggestions = strategy.analyze_transfer_targets(\n",
    "    current_team=current_team,\n",
    "    budget=2.0,  # £2.0m in the bank\n",
    "    free_transfers=1,\n",
    "    gameweeks_ahead=5\n",
    ")\n",
    "\n",
    "if transfer_suggestions:\n",
    "    print(f\"\\nTop {len(transfer_suggestions[:5])} Transfer Recommendations:\\n\")\n",
    "    for i, suggestion in enumerate(transfer_suggestions[:5], 1):\n",
    "        print(f\"{i}. {suggestion.player_out} ➡️  {suggestion.player_in} ({suggestion.position})\")\n",
    "        print(f\"   Cost: {suggestion.cost_change:+.1f}m | Expected gain: {suggestion.expected_points_gain:.1f} pts\")\n",
    "        print(f\"   Reason: {suggestion.reason}\\n\")\n",
    "else:\n",
    "    print(\"No transfer suggestions - team looks good!\")"
   ]
  },
  {
   "cell_type": "markdown",
   "metadata": {},
   "source": [
    "## 🎯 Part 8: Chip Strategy\n",
    "\n",
    "### When to use your chips"
   ]
  },
  {
   "cell_type": "code",
   "execution_count": null,
   "metadata": {},
   "outputs": [],
   "source": [
    "# Wildcard planning\n",
    "current_gw = 15  # Update with current gameweek\n",
    "\n",
    "print(\"\\n🃏 CHIP STRATEGY GUIDE\")\n",
    "print(\"=\" * 80)\n",
    "\n",
    "# Wildcard\n",
    "print(\"\\n1️⃣ WILDCARD STRATEGY\")\n",
    "wc_plan = strategy.wildcard_planning(current_gw)\n",
    "print(f\"Current GW: {wc_plan['gameweek']}\")\n",
    "print(f\"Window: {wc_plan['window']}\")\n",
    "print(f\"Recommended: {'✅ Yes' if wc_plan['recommended'] else '❌ No'}\")\n",
    "print(f\"Strategy: {wc_plan['strategy']}\")\n",
    "print(f\"Reasoning: {wc_plan['reasoning']}\")"
   ]
  },
  {
   "cell_type": "code",
   "execution_count": null,
   "metadata": {},
   "outputs": [],
   "source": [
    "# Bench Boost\n",
    "print(\"\\n2️⃣ BENCH BOOST STRATEGY\")\n",
    "bb_plan = strategy.bench_boost_planner(upcoming_dgw=26)\n",
    "print(f\"Optimal timing: {bb_plan['optimal_timing']}\")\n",
    "print(f\"Expected return: {bb_plan['expected_return']}\")\n",
    "print(\"\\nPreparation steps:\")\n",
    "for step in bb_plan['preparation']:\n",
    "    print(f\"  {step}\")"
   ]
  },
  {
   "cell_type": "code",
   "execution_count": null,
   "metadata": {},
   "outputs": [],
   "source": [
    "# Triple Captain\n",
    "print(\"\\n3️⃣ TRIPLE CAPTAIN STRATEGY\")\n",
    "tc_plan = strategy.triple_captain_analysis(captain_picks)\n",
    "print(f\"Optimal timing: {tc_plan['optimal_timing']}\")\n",
    "print(\"\\nTop targets:\")\n",
    "for target in tc_plan['top_targets'][:5]:\n",
    "    print(f\"  {target['name']} - Form: {target['form']:.1f}, xGI: {target['xgi_per_90']:.2f}\")"
   ]
  },
  {
   "cell_type": "code",
   "execution_count": null,
   "metadata": {},
   "outputs": [],
   "source": [
    "# Free Hit\n",
    "print(\"\\n4️⃣ FREE HIT STRATEGY\")\n",
    "fh_plan = strategy.free_hit_strategy(current_gw)\n",
    "print(f\"Optimal timing: {fh_plan['optimal_timing']}\")\n",
    "print(f\"Typical GWs: {fh_plan['typical_gameweeks']}\")\n",
    "print(\"\\nStrategy:\")\n",
    "for step in fh_plan['strategy']:\n",
    "    print(f\"  {step}\")"
   ]
  },
  {
   "cell_type": "markdown",
   "metadata": {},
   "source": [
    "## 📅 Part 9: Season Planning\n",
    "\n",
    "### Long-term strategy"
   ]
  },
  {
   "cell_type": "code",
   "execution_count": null,
   "metadata": {},
   "outputs": [],
   "source": [
    "# Season planner\n",
    "planner = GameweekPlanner(current_gw=current_gw)\n",
    "\n",
    "print(\"\\n📅 SEASON PLANNING GUIDE\")\n",
    "print(\"=\" * 80)\n",
    "\n",
    "season_plan = planner.create_season_plan()\n",
    "print(f\"Current GW: {season_plan['current_gw']}\")\n",
    "print(f\"Chips remaining: {', '.join(season_plan['chips_remaining'])}\")\n",
    "print(\"\\nRecommended schedule:\")\n",
    "for gw, recommendation in season_plan['recommended_schedule'].items():\n",
    "    print(f\"  {gw}: {recommendation}\")\n",
    "\n",
    "print(f\"\\nTransfer strategy: {season_plan['transfer_strategy']}\")\n",
    "print(f\"Captaincy: {season_plan['captaincy']}\")"
   ]
  },
  {
   "cell_type": "code",
   "execution_count": null,
   "metadata": {},
   "outputs": [],
   "source": [
    "# Weekly checklist\n",
    "print(\"\\n✅ WEEKLY PREPARATION CHECKLIST (GW\" + str(current_gw) + \")\")\n",
    "print(\"=\" * 80)\n",
    "\n",
    "checklist = planner.weekly_checklist(current_gw)\n",
    "for item in checklist:\n",
    "    print(item)"
   ]
  },
  {
   "cell_type": "markdown",
   "metadata": {},
   "source": [
    "## 🏆 Part 10: Mini-League Strategy\n",
    "\n",
    "### Different approaches for leaders vs chasers"
   ]
  },
  {
   "cell_type": "code",
   "execution_count": null,
   "metadata": {},
   "outputs": [],
   "source": [
    "# Mini-league strategy (customize with your rank)\n",
    "your_rank = 5  # Your current rank in mini-league\n",
    "total_players = 20  # Total players in mini-league\n",
    "\n",
    "print(\"\\n🏆 MINI-LEAGUE STRATEGY\")\n",
    "print(\"=\" * 80)\n",
    "\n",
    "ml_strategy = strategy.mini_league_strategy(your_rank, total_players)\n",
    "\n",
    "print(f\"Your rank: {ml_strategy['rank']}/{total_players} (Top {ml_strategy['rank_percentage']:.1f}%)\")\n",
    "print(f\"Strategy type: {ml_strategy['strategy_type'].upper()}\")\n",
    "print(f\"Approach: {ml_strategy['approach'].upper()}\")\n",
    "print(f\"Risk level: {ml_strategy['risk_level']}\")\n",
    "print(\"\\nRecommended tactics:\")\n",
    "for tactic in ml_strategy['tactics']:\n",
    "    print(f\"  ✓ {tactic}\")"
   ]
  },
  {
   "cell_type": "markdown",
   "metadata": {},
   "source": [
    "## 💰 Part 11: Bonus Point Prediction\n",
    "\n",
    "### Players likely to get bonus points"
   ]
  },
  {
   "cell_type": "code",
   "execution_count": null,
   "metadata": {},
   "outputs": [],
   "source": [
    "# Bonus point prediction\n",
    "bonus_predictor = BonusPredictor(players_df)\n",
    "\n",
    "print(\"\\n💰 BONUS POINT PREDICTIONS\")\n",
    "print(\"=\" * 80)\n",
    "\n",
    "bonus_predictions = bonus_predictor.predict_bonus_potential()\n",
    "top_bonus = bonus_predictions.head(20)\n",
    "\n",
    "print(\"\\nTop 20 Bonus Point Magnets:\\n\")\n",
    "print(top_bonus.to_string(index=False))\n",
    "\n",
    "print(\"\\n💡 Target players with bonus_potential > 2.0 for consistent bonus points!\")"
   ]
  },
  {
   "cell_type": "markdown",
   "metadata": {},
   "source": [
    "## 📊 Part 12: Export All Metrics\n",
    "\n",
    "### Save all calculations for further analysis"
   ]
  },
  {
   "cell_type": "code",
   "execution_count": null,
   "metadata": {},
   "outputs": [],
   "source": [
    "# Export all metrics\n",
    "print(\"\\n💾 EXPORTING ALL METRICS\")\n",
    "print(\"=\" * 80)\n",
    "\n",
    "all_metrics = metrics.export_all_metrics(output_dir='./Data/')\n",
    "\n",
    "print(\"\\nAvailable metric DataFrames:\")\n",
    "for name, df in all_metrics.items():\n",
    "    print(f\"  {name}: {len(df)} rows\")\n",
    "    \n",
    "print(\"\\n✅ All metrics calculated and ready for analysis!\")"
   ]
  },
  {
   "cell_type": "markdown",
   "metadata": {},
   "source": [
    "## 🎓 Summary\n",
    "\n",
    "### You now have access to:\n",
    "\n",
    "1. ✅ **20+ Advanced Metrics** including xG, xA, xGI, BPS, PPM, ROI\n",
    "2. ✅ **Position-Specific Analysis** for GKP, DEF, MID, FWD\n",
    "3. ✅ **Captain Picks** based on multiple factors\n",
    "4. ✅ **Differential Players** for gaining ranks\n",
    "5. ✅ **Team Building Strategies** (Balanced, Template, Differential, Premium)\n",
    "6. ✅ **Transfer Planning** with suggestions\n",
    "7. ✅ **Chip Strategy** (Wildcard, BB, TC, FH timing)\n",
    "8. ✅ **Season Planning** and weekly checklists\n",
    "9. ✅ **Mini-League Strategy** (Leader/Chaser approaches)\n",
    "10. ✅ **Bonus Point Predictions**\n",
    "\n",
    "### Popular FPL YouTuber Techniques Implemented:\n",
    "\n",
    "- 📺 **FPL Focal**: xGI analysis, underlying stats focus\n",
    "- 📺 **Let's Talk FPL**: Captain picks, transfer planning\n",
    "- 📺 **FPL Wire**: Differential strategy, template teams\n",
    "- 📺 **FPL General**: Fixture analysis, form vs fixtures\n",
    "- 📺 **FPL BlackBox**: Advanced metrics, value optimization\n",
    "- 📺 **FPL Raptor**: Bonus point focus, BPS analysis\n",
    "\n",
    "### Next Steps:\n",
    "\n",
    "1. Customize the current_team list with your actual squad\n",
    "2. Update current_gw with the current gameweek\n",
    "3. Run weekly to get updated transfer suggestions\n",
    "4. Use visualizations to identify value picks\n",
    "5. Plan chips using the strategy guide\n",
    "\n",
    "**Good luck with your FPL season! 🏆**"
   ]
  }
 ],
 "metadata": {
  "kernelspec": {
   "display_name": "Python 3",
   "language": "python",
   "name": "python3"
  },
  "language_info": {
   "codemirror_mode": {
    "name": "ipython",
    "version": 3
   },
   "file_extension": ".py",
   "mimetype": "text/x-python",
   "name": "python",
   "nbconvert_exporter": "python",
   "pygments_lexer": "ipython3",
   "version": "3.8.0"
  }
 },
 "nbformat": 4,
 "nbformat_minor": 4
}
